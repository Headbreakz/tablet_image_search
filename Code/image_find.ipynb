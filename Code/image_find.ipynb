{
 "cells": [
  {
   "cell_type": "code",
   "execution_count": 53,
   "metadata": {
    "scrolled": true
   },
   "outputs": [],
   "source": [
    "import numpy as np\n",
    "import cv2\n",
    "from matplotlib import pyplot as plt\n",
    "\n",
    "for i in range(1,1001):\n",
    "\n",
    "    img = cv2.imread('./image/'+str(i)+'.jpg')\n",
    "    img = cv2.resize(img,dsize=(350,200),interpolation=cv2.INTER_LINEAR)\n",
    "    mask = np.zeros(img.shape[:2],np.uint8)\n",
    "\n",
    "    bgdModel = np.zeros((1,65),np.float64)\n",
    "    fgdModel = np.zeros((1,65),np.float64)\n",
    "\n",
    "    height,width,c= img.shape\n",
    "    a = int(width*0.06)\n",
    "    b = int(height*0.08)\n",
    "    c = int(width*0.86)\n",
    "    d = int(height*0.7)\n",
    "    rect = (a,b,c,d)\n",
    "    # rect = (box[0][0], box[0][1], box[0][2]-box[0][0], box[0][3]-box[0][1])\n",
    "    cv2.grabCut(img,mask,rect,bgdModel,fgdModel,5,cv2.GC_INIT_WITH_RECT)\n",
    "\n",
    "    mask2 = np.where((mask==2)|(mask==0),0,1).astype('uint8')\n",
    "    img = img*mask2[:,:,np.newaxis]\n",
    "\n",
    "#     plt.imshow(img),plt.colorbar(),plt.show()\n",
    "    cv2.imwrite('./image_test/'+str(i)+'.jpg',img)\n",
    "\n",
    "\n"
   ]
  },
  {
   "cell_type": "code",
   "execution_count": 3,
   "metadata": {},
   "outputs": [],
   "source": [
    "import numpy as np\n",
    "import cv2\n",
    "img = cv2.imread('./image/1.jpg')\n",
    "mask = np.zeros(img.shape[:2],np.uint8)"
   ]
  },
  {
   "cell_type": "code",
   "execution_count": 12,
   "metadata": {},
   "outputs": [
    {
     "name": "stdout",
     "output_type": "stream",
     "text": [
      "(0, 0, 426, 780)\n"
     ]
    }
   ],
   "source": [
    "img2 = cv2.cvtColor(img, cv2.COLOR_BGR2BGRA)"
   ]
  },
  {
   "cell_type": "code",
   "execution_count": 5,
   "metadata": {},
   "outputs": [],
   "source": [
    "from PIL import Image\n",
    "for i in range(1,1001):\n",
    "    im = Image.open('./image_test/'+str(i)+'.jpg')\n",
    "    im.save(str(i)+'.png')\n",
    "    img = Image.open(str(i)+'.png')\n",
    "    img = img.convert(\"RGBA\")\n",
    "    datas =img.getdata()\n",
    "    newData = []\n",
    "    cutOff = 50\n",
    "\n",
    "    for item in datas:\n",
    "        if item[0] < cutOff and item[1] < cutOff and item[2] < cutOff:\n",
    "            newData.append((0, 0, 0, 0))\n",
    "#             RGB의 각 요소가 모두 cutOff 이상이면 transparent하게 바꿔줍니다.\n",
    "        elif item[0] == 191 and item[1] == 206 and item[2] == 225:\n",
    "            newData.append((0, 0, 0, 0))\n",
    "        elif item[0] == 219 and item[1] == 211 and item[2] == 224:\n",
    "            newData.append((0, 0, 0, 0))\n",
    "        elif item[0] == 199 and item[1] == 191 and item[2] == 204:\n",
    "            newData.append((0, 0, 0, 0))\n",
    "        elif item[0] == 189 and item[1] == 205 and item[2] == 228:\n",
    "            newData.append((0, 0, 0, 0))\n",
    "        elif item[0] == 194 and item[1] == 206 and item[2] == 222:\n",
    "            newData.append((0, 0, 0, 0))\n",
    "#         elif 185 <= item[0] and item[0] <= 220 and 185 <= item[1] and item[1] <= 210 and 200 <= item[2] and item[2] <= 225 :\n",
    "#             newData.append((0, 0, 0, 0))\n",
    "            \n",
    "        else:\n",
    "            newData.append(item)\n",
    "            # 나머지 요소는 변경하지 않습니다.\n",
    "    img.putdata(newData)\n",
    "    img.save('./test_image/'+str(i)+'.png', \"PNG\")"
   ]
  },
  {
   "cell_type": "code",
   "execution_count": 25,
   "metadata": {
    "scrolled": true
   },
   "outputs": [
    {
     "name": "stdout",
     "output_type": "stream",
     "text": [
      "['./image\\\\1.jpg', './image\\\\10.jpg', './image\\\\11.jpg', './image\\\\12.jpg', './image\\\\13.jpg', './image\\\\14.jpg', './image\\\\15.jpg', './image\\\\16.jpg', './image\\\\17.jpg', './image\\\\18.jpg', './image\\\\19.jpg', './image\\\\2.jpg', './image\\\\20.jpg', './image\\\\21.jpg', './image\\\\22.jpg', './image\\\\23.jpg', './image\\\\24.jpg', './image\\\\25.jpg', './image\\\\26.jpg', './image\\\\27.jpg', './image\\\\28.jpg', './image\\\\29.jpg', './image\\\\3.jpg', './image\\\\30.jpg', './image\\\\4.jpg', './image\\\\5.jpg', './image\\\\6.jpg', './image\\\\7.jpg', './image\\\\8.jpg', './image\\\\9.jpg']\n"
     ]
    }
   ],
   "source": [
    "import glob\n",
    "\n",
    "images = glob.glob('./image/*.jpg')\n",
    "print(images)"
   ]
  },
  {
   "cell_type": "code",
   "execution_count": 45,
   "metadata": {},
   "outputs": [],
   "source": [
    "im = Image.open('./image/1.jpg')\n",
    "im.save('./image_test/1.png')"
   ]
  }
 ],
 "metadata": {
  "kernelspec": {
   "display_name": "Python 3",
   "language": "python",
   "name": "python3"
  },
  "language_info": {
   "codemirror_mode": {
    "name": "ipython",
    "version": 3
   },
   "file_extension": ".py",
   "mimetype": "text/x-python",
   "name": "python",
   "nbconvert_exporter": "python",
   "pygments_lexer": "ipython3",
   "version": "3.7.6"
  }
 },
 "nbformat": 4,
 "nbformat_minor": 4
}
