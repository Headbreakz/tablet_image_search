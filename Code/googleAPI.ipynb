{
 "cells": [
  {
   "cell_type": "code",
   "execution_count": 1,
   "metadata": {},
   "outputs": [],
   "source": [
    "def implicit():\n",
    "\n",
    "    from google.cloud import storage\n",
    "\n",
    "    # If you don't specify credentials when constructing the client, the\n",
    "    # client library will look for credentials in the environment.\n",
    "    storage_client = storage.Client()\n",
    "\n",
    "    # Make an authenticated API request\n",
    "    buckets = list(storage_client.list_buckets())\n",
    "    print(buckets)"
   ]
  },
  {
   "cell_type": "code",
   "execution_count": 2,
   "metadata": {
    "scrolled": true
   },
   "outputs": [
    {
     "name": "stdout",
     "output_type": "stream",
     "text": [
      "Texts:\n",
      "\n",
      "\"HN\n",
      "10\n",
      "mm\n",
      "6.6\n",
      "식품의약품안전저\n",
      "Minsty of Food and Drig Safety\n",
      "6.6\n",
      "\"\n",
      "bounds: (23,78),(756,78),(756,411),(23,411)\n",
      "\n",
      "\"HN\"\n",
      "bounds: (127,80),(298,78),(299,178),(128,180)\n",
      "\n",
      "\"10\"\n",
      "bounds: (148,202),(289,199),(291,292),(150,295)\n",
      "\n",
      "\"mm\"\n",
      "bounds: (23,345),(55,346),(55,360),(23,359)\n",
      "\n",
      "\"6.6\"\n",
      "bounds: (202,366),(235,366),(235,384),(202,384)\n",
      "\n",
      "\"식품\"\n",
      "bounds: (650,391),(668,391),(668,400),(650,400)\n",
      "\n",
      "\"의약품\"\n",
      "bounds: (672,388),(705,388),(705,402),(672,402)\n",
      "\n",
      "\"안전\"\n",
      "bounds: (707,388),(725,388),(725,402),(707,402)\n",
      "\n",
      "\"저\"\n",
      "bounds: (727,388),(730,388),(730,402),(727,402)\n",
      "\n",
      "\"Minsty\"\n",
      "bounds: (649,404),(674,404),(674,410),(649,410)\n",
      "\n",
      "\"of\"\n",
      "bounds: (676,404),(682,404),(682,409),(676,409)\n",
      "\n",
      "\"Food\"\n",
      "bounds: (686,404),(701,404),(701,409),(686,409)\n",
      "\n",
      "\"and\"\n",
      "bounds: (704,404),(715,404),(715,409),(704,409)\n",
      "\n",
      "\"Drig\"\n",
      "bounds: (718,403),(734,403),(734,411),(718,411)\n",
      "\n",
      "\"Safety\"\n",
      "bounds: (737,403),(756,403),(756,411),(737,411)\n",
      "\n",
      "\"6.6\"\n",
      "bounds: (42,165),(43,199),(25,199),(24,165)\n"
     ]
    }
   ],
   "source": [
    "import os,io\n",
    "\n",
    "\n",
    "os.environ[\"GOOGLE_APPLICATION_CREDENTIALS\"] ='C:/test/crucial-lyceum-274205-a38a5c645f5b.json'\n",
    "\n",
    "def detect_text(path):\n",
    "    \"\"\"Detects text in the file.\"\"\"\n",
    "    from google.cloud import vision\n",
    "    import io\n",
    "    client = vision.ImageAnnotatorClient()\n",
    "\n",
    "    with io.open(path, 'rb') as image_file:\n",
    "        content = image_file.read()\n",
    "\n",
    "    image = vision.types.Image(content=content)\n",
    "\n",
    "    response = client.text_detection(image=image)\n",
    "    texts = response.text_annotations\n",
    "    print('Texts:')\n",
    "\n",
    "    for text in texts:\n",
    "        print('\\n\"{}\"'.format(text.description))\n",
    "\n",
    "        vertices = (['({},{})'.format(vertex.x, vertex.y)\n",
    "                    for vertex in text.bounding_poly.vertices])\n",
    "\n",
    "        print('bounds: {}'.format(','.join(vertices)))\n",
    "        \n",
    "file_name = 'C:/Users/Head/Desktop/image/564.jpg'\n",
    "\n",
    "detect_text(file_name)\n",
    "\n",
    "    "
   ]
  },
  {
   "cell_type": "code",
   "execution_count": 2,
   "metadata": {},
   "outputs": [
    {
     "name": "stdout",
     "output_type": "stream",
     "text": [
      "C:/Users/Head/Desktop/image/31.jpg\n"
     ]
    }
   ],
   "source": [
    "file_name = 'C:/Users/Head/Desktop/image/31.jpg'\n",
    "\n",
    "print(file_name)"
   ]
  }
 ],
 "metadata": {
  "kernelspec": {
   "display_name": "Python 3",
   "language": "python",
   "name": "python3"
  },
  "language_info": {
   "codemirror_mode": {
    "name": "ipython",
    "version": 3
   },
   "file_extension": ".py",
   "mimetype": "text/x-python",
   "name": "python",
   "nbconvert_exporter": "python",
   "pygments_lexer": "ipython3",
   "version": "3.7.4"
  }
 },
 "nbformat": 4,
 "nbformat_minor": 2
}
