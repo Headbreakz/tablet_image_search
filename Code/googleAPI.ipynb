{
 "cells": [
  {
   "cell_type": "code",
   "execution_count": 60,
   "metadata": {
    "scrolled": true
   },
   "outputs": [
    {
     "name": "stdout",
     "output_type": "stream",
     "text": [
      "[locale: \"und\"\n",
      "description: \"10\\n\"\n",
      "bounding_poly {\n",
      "  vertices {\n",
      "    x: 198\n",
      "    y: 54\n",
      "  }\n",
      "  vertices {\n",
      "    x: 289\n",
      "    y: 54\n",
      "  }\n",
      "  vertices {\n",
      "    x: 289\n",
      "    y: 115\n",
      "  }\n",
      "  vertices {\n",
      "    x: 198\n",
      "    y: 115\n",
      "  }\n",
      "}\n",
      ", description: \"10\"\n",
      "bounding_poly {\n",
      "  vertices {\n",
      "    x: 198\n",
      "    y: 54\n",
      "  }\n",
      "  vertices {\n",
      "    x: 289\n",
      "    y: 54\n",
      "  }\n",
      "  vertices {\n",
      "    x: 289\n",
      "    y: 115\n",
      "  }\n",
      "  vertices {\n",
      "    x: 198\n",
      "    y: 115\n",
      "  }\n",
      "}\n",
      "]\n"
     ]
    }
   ],
   "source": [
    "import os,io\n",
    "\n",
    "\n",
    "os.environ[\"GOOGLE_APPLICATION_CREDENTIALS\"] ='C:/test/crucial-lyceum.json'\n",
    "\n",
    "# def detect_text(path):\n",
    "path = './image/circle_yellow/452.jpg'\n",
    "#     \"\"\"Detects text in the file.\"\"\"\n",
    "from google.cloud import vision\n",
    "import io\n",
    "client = vision.ImageAnnotatorClient()\n",
    "\n",
    "with io.open(path, 'rb') as image_file:\n",
    "    content = image_file.read()\n",
    "\n",
    "image = vision.types.Image(content=content)\n",
    "\n",
    "response = client.text_detection(image=image)\n",
    "texts = response.text_annotations\n",
    "print(texts)\n",
    "    "
   ]
  },
  {
   "cell_type": "code",
   "execution_count": null,
   "metadata": {},
   "outputs": [],
   "source": []
  }
 ],
 "metadata": {
  "kernelspec": {
   "display_name": "Python 3",
   "language": "python",
   "name": "python3"
  },
  "language_info": {
   "codemirror_mode": {
    "name": "ipython",
    "version": 3
   },
   "file_extension": ".py",
   "mimetype": "text/x-python",
   "name": "python",
   "nbconvert_exporter": "python",
   "pygments_lexer": "ipython3",
   "version": "3.7.6"
  }
 },
 "nbformat": 4,
 "nbformat_minor": 2
}
