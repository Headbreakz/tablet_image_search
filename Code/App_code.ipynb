{
 "cells": [
  {
   "cell_type": "code",
   "execution_count": 86,
   "metadata": {},
   "outputs": [],
   "source": [
    "from keras.preprocessing.image import img_to_array\n",
    "from keras.models import load_model\n",
    "import numpy as np\n",
    "import argparse\n",
    "import imutils\n",
    "import pickle\n",
    "import cv2\n",
    "import os\n",
    "from matplotlib import pyplot as plt\n",
    "import io\n",
    "from google.cloud import vision\n",
    "from PIL import Image\n",
    "\n"
   ]
  },
  {
   "cell_type": "code",
   "execution_count": 87,
   "metadata": {},
   "outputs": [],
   "source": [
    "path ='./image.jpg'"
   ]
  },
  {
   "cell_type": "code",
   "execution_count": 88,
   "metadata": {},
   "outputs": [],
   "source": [
    "# 이미지를 로드합니다\n",
    "img = cv2.imread(path)"
   ]
  },
  {
   "cell_type": "code",
   "execution_count": 89,
   "metadata": {
    "scrolled": true
   },
   "outputs": [
    {
     "name": "stdout",
     "output_type": "stream",
     "text": [
      "[INFO] loading network...\n"
     ]
    }
   ],
   "source": [
    "# 분류를 위한 이미지 전처리를 수행합니다\n",
    "image = cv2.resize(img, (280, 160))\n",
    "image = image.astype(\"float\") / 255.0\n",
    "image = img_to_array(image)\n",
    "image = np.expand_dims(image, axis=0)\n",
    "\n",
    "# 학습된 네트워크와 `MultiLabelBinarizer`를 로드합니다\n",
    "print(\"[INFO] loading network...\")\n",
    "model = load_model(\"model.h5\")\n",
    "mlb = pickle.loads(open(\"labelbin\", \"rb\").read())\n",
    "\n",
    "# 이미지에 대한 분류를 수행한 후, \n",
    "# 확률이 가장 높은 두 개의 클래스 라벨을 찾습니다\n",
    "# print(\"[INFO] classifying image...\")\n",
    "proba = model.predict(image)[0]\n",
    "idxs = np.argsort(proba)[::-1][:2]"
   ]
  },
  {
   "cell_type": "code",
   "execution_count": 90,
   "metadata": {},
   "outputs": [
    {
     "data": {
      "text/plain": [
       "array([ 9, 13], dtype=int64)"
      ]
     },
     "execution_count": 90,
     "metadata": {},
     "output_type": "execute_result"
    }
   ],
   "source": [
    "idxs"
   ]
  },
  {
   "cell_type": "code",
   "execution_count": 91,
   "metadata": {},
   "outputs": [],
   "source": [
    "for (i, j) in enumerate(idxs):\n",
    "    label = \"{}: {:.2f}%\".format(mlb.classes_[j], proba[j] * 100)\n",
    "    \n"
   ]
  },
  {
   "cell_type": "code",
   "execution_count": 92,
   "metadata": {},
   "outputs": [
    {
     "name": "stdout",
     "output_type": "stream",
     "text": [
      "circle\n",
      "ellipse\n"
     ]
    }
   ],
   "source": [
    "first_acc=mlb.classes_[idxs[0]]\n",
    "second_acc=mlb.classes_[idxs[1]]\n",
    "\n",
    "print(first_acc)\n",
    "print(second_acc)"
   ]
  },
  {
   "cell_type": "code",
   "execution_count": 100,
   "metadata": {},
   "outputs": [
    {
     "name": "stdout",
     "output_type": "stream",
     "text": [
      "[locale: \"en\"\n",
      "description: \"HD DWP\\nmm\\n9.3\\n\\354\\213\\235\\355\\222\\210\\354\\235\\230\\354\\225\\275\\355\\222\\210\\354\\225\\210\\354\\240\\204\\354\\262\\230\\nMinistry of Food and Drug Safety\\n9.3\\n\"\n",
      "bounding_poly {\n",
      "  vertices {\n",
      "    x: 23\n",
      "    y: 116\n",
      "  }\n",
      "  vertices {\n",
      "    x: 756\n",
      "    y: 116\n",
      "  }\n",
      "  vertices {\n",
      "    x: 756\n",
      "    y: 410\n",
      "  }\n",
      "  vertices {\n",
      "    x: 23\n",
      "    y: 410\n",
      "  }\n",
      "}\n",
      ", description: \"HD\"\n",
      "bounding_poly {\n",
      "  vertices {\n",
      "    x: 88\n",
      "    y: 116\n",
      "  }\n",
      "  vertices {\n",
      "    x: 367\n",
      "    y: 116\n",
      "  }\n",
      "  vertices {\n",
      "    x: 367\n",
      "    y: 235\n",
      "  }\n",
      "  vertices {\n",
      "    x: 88\n",
      "    y: 235\n",
      "  }\n",
      "}\n",
      ", description: \"DWP\"\n",
      "bounding_poly {\n",
      "  vertices {\n",
      "    x: 440\n",
      "    y: 116\n",
      "  }\n",
      "  vertices {\n",
      "    x: 675\n",
      "    y: 116\n",
      "  }\n",
      "  vertices {\n",
      "    x: 675\n",
      "    y: 235\n",
      "  }\n",
      "  vertices {\n",
      "    x: 440\n",
      "    y: 235\n",
      "  }\n",
      "}\n",
      ", description: \"mm\"\n",
      "bounding_poly {\n",
      "  vertices {\n",
      "    x: 23\n",
      "    y: 346\n",
      "  }\n",
      "  vertices {\n",
      "    x: 55\n",
      "    y: 346\n",
      "  }\n",
      "  vertices {\n",
      "    x: 55\n",
      "    y: 359\n",
      "  }\n",
      "  vertices {\n",
      "    x: 23\n",
      "    y: 359\n",
      "  }\n",
      "}\n",
      ", description: \"9.3\"\n",
      "bounding_poly {\n",
      "  vertices {\n",
      "    x: 202\n",
      "    y: 366\n",
      "  }\n",
      "  vertices {\n",
      "    x: 236\n",
      "    y: 366\n",
      "  }\n",
      "  vertices {\n",
      "    x: 236\n",
      "    y: 383\n",
      "  }\n",
      "  vertices {\n",
      "    x: 202\n",
      "    y: 383\n",
      "  }\n",
      "}\n",
      ", description: \"\\354\\213\\235\\355\\222\\210\"\n",
      "bounding_poly {\n",
      "  vertices {\n",
      "    x: 650\n",
      "    y: 391\n",
      "  }\n",
      "  vertices {\n",
      "    x: 668\n",
      "    y: 391\n",
      "  }\n",
      "  vertices {\n",
      "    x: 668\n",
      "    y: 400\n",
      "  }\n",
      "  vertices {\n",
      "    x: 650\n",
      "    y: 400\n",
      "  }\n",
      "}\n",
      ", description: \"\\354\\235\\230\\354\\225\\275\\355\\222\\210\"\n",
      "bounding_poly {\n",
      "  vertices {\n",
      "    x: 670\n",
      "    y: 390\n",
      "  }\n",
      "  vertices {\n",
      "    x: 700\n",
      "    y: 390\n",
      "  }\n",
      "  vertices {\n",
      "    x: 700\n",
      "    y: 400\n",
      "  }\n",
      "  vertices {\n",
      "    x: 670\n",
      "    y: 400\n",
      "  }\n",
      "}\n",
      ", description: \"\\354\\225\\210\\354\\240\\204\"\n",
      "bounding_poly {\n",
      "  vertices {\n",
      "    x: 702\n",
      "    y: 391\n",
      "  }\n",
      "  vertices {\n",
      "    x: 721\n",
      "    y: 391\n",
      "  }\n",
      "  vertices {\n",
      "    x: 721\n",
      "    y: 400\n",
      "  }\n",
      "  vertices {\n",
      "    x: 702\n",
      "    y: 400\n",
      "  }\n",
      "}\n",
      ", description: \"\\354\\262\\230\"\n",
      "bounding_poly {\n",
      "  vertices {\n",
      "    x: 723\n",
      "    y: 391\n",
      "  }\n",
      "  vertices {\n",
      "    x: 731\n",
      "    y: 391\n",
      "  }\n",
      "  vertices {\n",
      "    x: 731\n",
      "    y: 400\n",
      "  }\n",
      "  vertices {\n",
      "    x: 723\n",
      "    y: 400\n",
      "  }\n",
      "}\n",
      ", description: \"Ministry\"\n",
      "bounding_poly {\n",
      "  vertices {\n",
      "    x: 649\n",
      "    y: 404\n",
      "  }\n",
      "  vertices {\n",
      "    x: 674\n",
      "    y: 404\n",
      "  }\n",
      "  vertices {\n",
      "    x: 674\n",
      "    y: 410\n",
      "  }\n",
      "  vertices {\n",
      "    x: 649\n",
      "    y: 410\n",
      "  }\n",
      "}\n",
      ", description: \"of\"\n",
      "bounding_poly {\n",
      "  vertices {\n",
      "    x: 676\n",
      "    y: 403\n",
      "  }\n",
      "  vertices {\n",
      "    x: 682\n",
      "    y: 403\n",
      "  }\n",
      "  vertices {\n",
      "    x: 682\n",
      "    y: 409\n",
      "  }\n",
      "  vertices {\n",
      "    x: 676\n",
      "    y: 409\n",
      "  }\n",
      "}\n",
      ", description: \"Food\"\n",
      "bounding_poly {\n",
      "  vertices {\n",
      "    x: 686\n",
      "    y: 404\n",
      "  }\n",
      "  vertices {\n",
      "    x: 701\n",
      "    y: 404\n",
      "  }\n",
      "  vertices {\n",
      "    x: 701\n",
      "    y: 409\n",
      "  }\n",
      "  vertices {\n",
      "    x: 686\n",
      "    y: 409\n",
      "  }\n",
      "}\n",
      ", description: \"and\"\n",
      "bounding_poly {\n",
      "  vertices {\n",
      "    x: 704\n",
      "    y: 403\n",
      "  }\n",
      "  vertices {\n",
      "    x: 715\n",
      "    y: 403\n",
      "  }\n",
      "  vertices {\n",
      "    x: 715\n",
      "    y: 409\n",
      "  }\n",
      "  vertices {\n",
      "    x: 704\n",
      "    y: 409\n",
      "  }\n",
      "}\n",
      ", description: \"Drug\"\n",
      "bounding_poly {\n",
      "  vertices {\n",
      "    x: 719\n",
      "    y: 404\n",
      "  }\n",
      "  vertices {\n",
      "    x: 733\n",
      "    y: 404\n",
      "  }\n",
      "  vertices {\n",
      "    x: 733\n",
      "    y: 410\n",
      "  }\n",
      "  vertices {\n",
      "    x: 719\n",
      "    y: 410\n",
      "  }\n",
      "}\n",
      ", description: \"Safety\"\n",
      "bounding_poly {\n",
      "  vertices {\n",
      "    x: 737\n",
      "    y: 403\n",
      "  }\n",
      "  vertices {\n",
      "    x: 756\n",
      "    y: 403\n",
      "  }\n",
      "  vertices {\n",
      "    x: 756\n",
      "    y: 410\n",
      "  }\n",
      "  vertices {\n",
      "    x: 737\n",
      "    y: 410\n",
      "  }\n",
      "}\n",
      ", description: \"9.3\"\n",
      "bounding_poly {\n",
      "  vertices {\n",
      "    x: 42\n",
      "    y: 165\n",
      "  }\n",
      "  vertices {\n",
      "    x: 43\n",
      "    y: 199\n",
      "  }\n",
      "  vertices {\n",
      "    x: 24\n",
      "    y: 199\n",
      "  }\n",
      "  vertices {\n",
      "    x: 23\n",
      "    y: 165\n",
      "  }\n",
      "}\n",
      "]\n"
     ]
    }
   ],
   "source": [
    "import base64\n",
    "\n",
    "os.environ[\"GOOGLE_APPLICATION_CREDENTIALS\"] ='C:/test/crucial-lyceum-274205-eadd5d760574.json'\n",
    "\n",
    "client = vision.ImageAnnotatorClient()\n",
    "\n",
    "with io.open('./image.jpg', 'rb') as image_file:    \n",
    "    content = image_file.read()\n",
    "    \n",
    "image = vision.types.Image(content=content)\n",
    "\n",
    "response = client.text_detection(image=image)\n",
    "texts = response.text_annotations\n",
    "\n",
    "print(texts)\n",
    "search_word=texts[2].description"
   ]
  },
  {
   "cell_type": "code",
   "execution_count": 101,
   "metadata": {},
   "outputs": [
    {
     "data": {
      "text/plain": [
       "'DWP'"
      ]
     },
     "execution_count": 101,
     "metadata": {},
     "output_type": "execute_result"
    }
   ],
   "source": [
    "search_word"
   ]
  },
  {
   "cell_type": "code",
   "execution_count": 102,
   "metadata": {},
   "outputs": [],
   "source": [
    "import pandas as pd\n",
    "df1=pd.read_excel('공공데이터개방_낱알식별목록_re.xlsx')"
   ]
  },
  {
   "cell_type": "code",
   "execution_count": 103,
   "metadata": {
    "scrolled": true
   },
   "outputs": [],
   "source": [
    "check1 = df1[df1['의약품제형'].str.contains(first_acc) | df1['색상앞'].str.contains(first_acc)]  \n",
    "check2 = check1[check1['표시앞'].isin([search_word]) | check1['표시뒤'].isin([search_word])]\n",
    "tablet_name =check2['품목명'].values\n",
    "tablet_function=check2['분류명'].values"
   ]
  },
  {
   "cell_type": "code",
   "execution_count": 104,
   "metadata": {
    "scrolled": false
   },
   "outputs": [
    {
     "ename": "ValueError",
     "evalue": "The truth value of an array with more than one element is ambiguous. Use a.any() or a.all()",
     "output_type": "error",
     "traceback": [
      "\u001b[1;31m---------------------------------------------------------------------------\u001b[0m",
      "\u001b[1;31mValueError\u001b[0m                                Traceback (most recent call last)",
      "\u001b[1;32m<ipython-input-104-22b0093dc193>\u001b[0m in \u001b[0;36m<module>\u001b[1;34m\u001b[0m\n\u001b[1;32m----> 1\u001b[1;33m \u001b[1;32mif\u001b[0m \u001b[1;32mnot\u001b[0m \u001b[0mtablet_name\u001b[0m\u001b[1;33m:\u001b[0m\u001b[1;33m\u001b[0m\u001b[1;33m\u001b[0m\u001b[0m\n\u001b[0m\u001b[0;32m      2\u001b[0m     \u001b[0mcheck1\u001b[0m \u001b[1;33m=\u001b[0m \u001b[0mdf1\u001b[0m\u001b[1;33m[\u001b[0m\u001b[0mdf1\u001b[0m\u001b[1;33m[\u001b[0m\u001b[1;34m'의약품제형'\u001b[0m\u001b[1;33m]\u001b[0m\u001b[1;33m.\u001b[0m\u001b[0mstr\u001b[0m\u001b[1;33m.\u001b[0m\u001b[0mcontains\u001b[0m\u001b[1;33m(\u001b[0m\u001b[0msecond_acc\u001b[0m\u001b[1;33m)\u001b[0m \u001b[1;33m|\u001b[0m \u001b[0mdf1\u001b[0m\u001b[1;33m[\u001b[0m\u001b[1;34m'색상앞'\u001b[0m\u001b[1;33m]\u001b[0m\u001b[1;33m.\u001b[0m\u001b[0mstr\u001b[0m\u001b[1;33m.\u001b[0m\u001b[0mcontains\u001b[0m\u001b[1;33m(\u001b[0m\u001b[0msecond_acc\u001b[0m\u001b[1;33m)\u001b[0m\u001b[1;33m]\u001b[0m\u001b[1;33m\u001b[0m\u001b[1;33m\u001b[0m\u001b[0m\n\u001b[0;32m      3\u001b[0m     \u001b[0mcheck2\u001b[0m \u001b[1;33m=\u001b[0m \u001b[0mcheck1\u001b[0m\u001b[1;33m[\u001b[0m\u001b[0mcheck1\u001b[0m\u001b[1;33m[\u001b[0m\u001b[1;34m'표시앞'\u001b[0m\u001b[1;33m]\u001b[0m\u001b[1;33m.\u001b[0m\u001b[0misin\u001b[0m\u001b[1;33m(\u001b[0m\u001b[1;33m[\u001b[0m\u001b[0msearch_word\u001b[0m\u001b[1;33m]\u001b[0m\u001b[1;33m)\u001b[0m \u001b[1;33m|\u001b[0m \u001b[0mcheck1\u001b[0m\u001b[1;33m[\u001b[0m\u001b[1;34m'표시뒤'\u001b[0m\u001b[1;33m]\u001b[0m\u001b[1;33m.\u001b[0m\u001b[0misin\u001b[0m\u001b[1;33m(\u001b[0m\u001b[1;33m[\u001b[0m\u001b[0msearch_word\u001b[0m\u001b[1;33m]\u001b[0m\u001b[1;33m)\u001b[0m\u001b[1;33m]\u001b[0m\u001b[1;33m\u001b[0m\u001b[1;33m\u001b[0m\u001b[0m\n\u001b[0;32m      4\u001b[0m     \u001b[0mtablet_name\u001b[0m \u001b[1;33m=\u001b[0m\u001b[0mcheck2\u001b[0m\u001b[1;33m[\u001b[0m\u001b[1;34m'품목명'\u001b[0m\u001b[1;33m]\u001b[0m\u001b[1;33m.\u001b[0m\u001b[0mvalues\u001b[0m\u001b[1;33m\u001b[0m\u001b[1;33m\u001b[0m\u001b[0m\n\u001b[0;32m      5\u001b[0m     \u001b[0mtablet_function\u001b[0m\u001b[1;33m=\u001b[0m\u001b[0mcheck2\u001b[0m\u001b[1;33m[\u001b[0m\u001b[1;34m'분류명'\u001b[0m\u001b[1;33m]\u001b[0m\u001b[1;33m.\u001b[0m\u001b[0mvalues\u001b[0m\u001b[1;33m\u001b[0m\u001b[1;33m\u001b[0m\u001b[0m\n",
      "\u001b[1;31mValueError\u001b[0m: The truth value of an array with more than one element is ambiguous. Use a.any() or a.all()"
     ]
    }
   ],
   "source": [
    "if not tablet_name:\n",
    "    check1 = df1[df1['의약품제형'].str.contains(second_acc) | df1['색상앞'].str.contains(second_acc)]  \n",
    "    check2 = check1[check1['표시앞'].isin([search_word]) | check1['표시뒤'].isin([search_word])]\n",
    "    tablet_name =check2['품목명'].values\n",
    "    tablet_function=check2['분류명'].values\n",
    "    \n",
    "   \n",
    "    \n"
   ]
  },
  {
   "cell_type": "code",
   "execution_count": 84,
   "metadata": {},
   "outputs": [
    {
     "name": "stdout",
     "output_type": "stream",
     "text": [
      "[]\n",
      "[]\n"
     ]
    }
   ],
   "source": [
    "print(tablet_name)\n",
    "print(tablet_function)"
   ]
  }
 ],
 "metadata": {
  "kernelspec": {
   "display_name": "Python 3",
   "language": "python",
   "name": "python3"
  },
  "language_info": {
   "codemirror_mode": {
    "name": "ipython",
    "version": 3
   },
   "file_extension": ".py",
   "mimetype": "text/x-python",
   "name": "python",
   "nbconvert_exporter": "python",
   "pygments_lexer": "ipython3",
   "version": "3.7.6"
  }
 },
 "nbformat": 4,
 "nbformat_minor": 4
}
