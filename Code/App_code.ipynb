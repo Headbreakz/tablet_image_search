{
 "cells": [
  {
   "cell_type": "code",
   "execution_count": 8,
   "metadata": {},
   "outputs": [
    {
     "name": "stderr",
     "output_type": "stream",
     "text": [
      "Using TensorFlow backend.\n"
     ]
    }
   ],
   "source": [
    "from keras.preprocessing.image import img_to_array\n",
    "from keras.models import load_model\n",
    "import numpy as np\n",
    "import argparse\n",
    "import imutils\n",
    "import pickle\n",
    "import cv2\n",
    "import os\n",
    "from matplotlib import pyplot as plt\n",
    "import io\n",
    "from google.cloud import vision\n",
    "from PIL import Image\n",
    "import json"
   ]
  },
  {
   "cell_type": "code",
   "execution_count": 8,
   "metadata": {},
   "outputs": [],
   "source": [
    "path ='./image.jpg'"
   ]
  },
  {
   "cell_type": "code",
   "execution_count": 9,
   "metadata": {},
   "outputs": [],
   "source": [
    "# 이미지를 로드합니다\n",
    "img = cv2.imread(path)"
   ]
  },
  {
   "cell_type": "code",
   "execution_count": 10,
   "metadata": {
    "scrolled": true
   },
   "outputs": [
    {
     "name": "stdout",
     "output_type": "stream",
     "text": [
      "[INFO] loading network...\n"
     ]
    }
   ],
   "source": [
    "# 분류를 위한 이미지 전처리를 수행합니다\n",
    "image = cv2.resize(img, (280, 160))\n",
    "image = image.astype(\"float\") / 255.0\n",
    "image = img_to_array(image)\n",
    "image = np.expand_dims(image, axis=0)\n",
    "\n",
    "# 학습된 네트워크와 `MultiLabelBinarizer`를 로드합니다\n",
    "print(\"[INFO] loading network...\")\n",
    "model = load_model(\"model.h5\")\n",
    "mlb = pickle.loads(open(\"labelbin\", \"rb\").read())\n",
    "\n",
    "# 이미지에 대한 분류를 수행한 후, \n",
    "# 확률이 가장 높은 두 개의 클래스 라벨을 찾습니다\n",
    "# print(\"[INFO] classifying image...\")\n",
    "proba = model.predict(image)[0]\n",
    "idxs = np.argsort(proba)[::-1][:4]"
   ]
  },
  {
   "cell_type": "code",
   "execution_count": 63,
   "metadata": {},
   "outputs": [
    {
     "name": "stdout",
     "output_type": "stream",
     "text": [
      "1. a hemicyclea semicircle\n",
      "2. black\n",
      "3. blue\n",
      "4. blue, light\n",
      "5. blue, transparency\n",
      "6. bluish green\n",
      "7. bluish green, transparency\n",
      "8. brown\n",
      "9. brown, transparency\n",
      "10. circle\n",
      "11. dark blue\n",
      "12. dark blue, transparency\n",
      "13. diamond\n",
      "14. ellipse\n",
      "15. gray\n",
      "16. green\n",
      "17. green, transparency\n",
      "18. hexagon\n",
      "19. octagon\n",
      "20. orange\n",
      "21. orange, transparency\n",
      "22. pentagon\n",
      "23. pink\n",
      "24. pink, deep\n",
      "25. pink, light\n",
      "26. pink, transparency\n",
      "27. purple\n",
      "28. purple, transparency\n",
      "29. rectangle\n",
      "30. red\n",
      "31. red, transparency\n",
      "32. tetragon\n",
      "33. transparency\n",
      "34. triangle\n",
      "35. white\n",
      "36. white, blue\n",
      "37. white, brown\n",
      "38. white, green\n",
      "39. white, red\n",
      "40. white, transparency\n",
      "41. white, yellow\n",
      "42. wine\n",
      "43. wine, transparency\n",
      "44. yellow\n",
      "45. yellow, transparency\n",
      "46. yellowish green\n",
      "47. yellowish green, transparency\n"
     ]
    }
   ],
   "source": [
    "# 나올 수 있는 모든 라벨들을 출력합니다\n",
    "for (i, label) in enumerate(mlb.classes_):\n",
    "\tprint(\"{}. {}\".format(i + 1, label))"
   ]
  },
  {
   "cell_type": "code",
   "execution_count": 12,
   "metadata": {},
   "outputs": [],
   "source": [
    "for (i, j) in enumerate(idxs):\n",
    "    label = \"{}: {:.2f}%\".format(mlb.classes_[j], proba[j] * 100)"
   ]
  },
  {
   "cell_type": "code",
   "execution_count": 6,
   "metadata": {
    "scrolled": true
   },
   "outputs": [
    {
     "name": "stdout",
     "output_type": "stream",
     "text": [
      "a hemicyclea semicircle: 0.00%\n",
      "black: 0.00%\n",
      "blue: 0.00%\n",
      "blue, light: 0.00%\n",
      "blue, transparency: 0.00%\n",
      "bluish green: 0.00%\n",
      "bluish green, transparency: 0.00%\n",
      "brown: 0.00%\n",
      "brown, transparency: 0.00%\n",
      "circle: 2.06%\n",
      "dark blue: 0.00%\n",
      "dark blue, transparency: 0.00%\n",
      "diamond: 0.00%\n",
      "ellipse: 0.19%\n",
      "gray: 0.00%\n",
      "green: 99.87%\n",
      "green, transparency: 0.14%\n",
      "hexagon: 0.00%\n",
      "octagon: 0.00%\n",
      "orange: 0.00%\n",
      "orange, transparency: 0.00%\n",
      "pentagon: 0.00%\n",
      "pink: 0.00%\n",
      "pink, deep: 0.00%\n",
      "pink, light: 0.00%\n",
      "pink, transparency: 0.00%\n",
      "purple: 0.00%\n",
      "purple, transparency: 0.00%\n",
      "rectangle: 39.29%\n",
      "red: 0.00%\n",
      "red, transparency: 0.00%\n",
      "tetragon: 0.00%\n",
      "transparency: 0.00%\n",
      "triangle: 0.00%\n",
      "white: 0.00%\n",
      "white, blue: 0.00%\n",
      "white, brown: 0.00%\n",
      "white, green: 0.00%\n",
      "white, red: 0.00%\n",
      "white, transparency: 0.00%\n",
      "white, yellow: 0.00%\n",
      "wine: 0.00%\n",
      "wine, transparency: 0.00%\n",
      "yellow: 0.00%\n",
      "yellow, transparency: 0.00%\n",
      "yellowish green: 0.03%\n",
      "yellowish green, transparency: 0.00%\n"
     ]
    }
   ],
   "source": [
    "# 각 라벨에 대한 확률을 출력합니다\n",
    "for (label, p) in zip(mlb.classes_, proba):\n",
    "\tprint(\"{}: {:.2f}%\".format(label, p * 100))"
   ]
  },
  {
   "cell_type": "code",
   "execution_count": 13,
   "metadata": {},
   "outputs": [
    {
     "name": "stdout",
     "output_type": "stream",
     "text": [
      "circle\n",
      "gray\n",
      "white\n",
      "rectangle\n"
     ]
    }
   ],
   "source": [
    "first_acc=mlb.classes_[idxs[0]]\n",
    "second_acc=mlb.classes_[idxs[1]]\n",
    "third_acc=mlb.classes_[idxs[2]]\n",
    "fourth_acc=mlb.classes_[idxs[3]]\n",
    "\n",
    "print(first_acc)\n",
    "print(second_acc)\n",
    "print(third_acc)\n",
    "print(fourth_acc)"
   ]
  },
  {
   "cell_type": "code",
   "execution_count": 65,
   "metadata": {},
   "outputs": [],
   "source": [
    "tablet_shape=[]\n",
    "tablet_color=[]\n",
    "\n",
    "tablet_shape_labels=['a hemicyclea semicircle','circle','diamond','ellipse','hexagon','octagon','pentagon',\n",
    "'rectangle','tetragon','triangle']\n",
    "tablet_color_labels=['black','blue','blue, light','blue, transparency','bluish green','bluish green, transparency','brown',\n",
    "' brown, transparency','dark blue','dark blue','transparency','gray','green','green, transparency',\n",
    "'orange','orange, transparency','pink','pink, deep','pink, light','pink, transparency','purple',\n",
    "'purple, transparency','red','red, transparency','transparency','white','white, blue','white, brown',\n",
    "'white, green','white, red','white, transparency','white, yellow','wine','wine, transparency','yellow',\n",
    "'yellow, transparency','yellowish green','yellowish green, transparency']\n"
   ]
  },
  {
   "cell_type": "code",
   "execution_count": 66,
   "metadata": {},
   "outputs": [],
   "source": [
    "for idx in range(4) :\n",
    "    if mlb.classes_[idxs[idx]] in tablet_shape_labels :\n",
    "        tablet_shape.append(mlb.classes_[idxs[idx]])\n",
    "        \n",
    "    elif mlb.classes_[idxs[idx]] in tablet_color_labels :\n",
    "        tablet_color.append(mlb.classes_[idxs[idx]])\n",
    "        "
   ]
  },
  {
   "cell_type": "code",
   "execution_count": 67,
   "metadata": {},
   "outputs": [],
   "source": [
    "#google API 환경설정 및 실행\n",
    "os.environ[\"GOOGLE_APPLICATION_CREDENTIALS\"] ='./crucial-lyceum.json'\n",
    "\n",
    "client = vision.ImageAnnotatorClient()\n",
    "\n",
    "with io.open('./image.jpg', 'rb') as image_file:    \n",
    "    content = image_file.read()\n",
    "    \n",
    "image = vision.types.Image(content=content)\n",
    "\n",
    "response = client.text_detection(image=image)\n",
    "texts = response.text_annotations\n",
    "\n",
    "search_word=texts[1].description"
   ]
  },
  {
   "cell_type": "code",
   "execution_count": 2,
   "metadata": {},
   "outputs": [],
   "source": [
    "import pandas as pd\n",
    "df1=pd.read_csv('./공공데이터개방_낱알식별목록_re.csv',encoding = 'cp949')"
   ]
  },
  {
   "cell_type": "code",
   "execution_count": 15,
   "metadata": {},
   "outputs": [],
   "source": [
    "check1 = df1[(df1['의약품제형']==tablet_shape[0]) & (df1['색상앞']==tablet_color[0])]  \n",
    "check2 = check1[(check1['표시앞']==search_word) | (check1['표시뒤']==search_word)]"
   ]
  },
  {
   "cell_type": "code",
   "execution_count": 10,
   "metadata": {
    "scrolled": true
   },
   "outputs": [],
   "source": [
    "check2.to_json('test.json', orient='table')\n",
    "\n",
    "with open('test.json') as json_file:\n",
    "    json_data = json.load(json_file)"
   ]
  },
  {
   "cell_type": "code",
   "execution_count": 82,
   "metadata": {
    "scrolled": true
   },
   "outputs": [],
   "source": [
    "tablet_name = json_data[\"data\"][0][\"품목명\"]\n",
    "tablet_function = json_data[\"data\"][0][\"분류명\"]"
   ]
  },
  {
   "cell_type": "code",
   "execution_count": 83,
   "metadata": {},
   "outputs": [
    {
     "name": "stdout",
     "output_type": "stream",
     "text": [
      "원폴민정(메트포르민염산염)\n",
      "당뇨병용제\n"
     ]
    }
   ],
   "source": [
    "print(tablet_name)\n",
    "print(tablet_function)"
   ]
  }
 ],
 "metadata": {
  "kernelspec": {
   "display_name": "Python 3",
   "language": "python",
   "name": "python3"
  },
  "language_info": {
   "codemirror_mode": {
    "name": "ipython",
    "version": 3
   },
   "file_extension": ".py",
   "mimetype": "text/x-python",
   "name": "python",
   "nbconvert_exporter": "python",
   "pygments_lexer": "ipython3",
   "version": "3.7.6"
  }
 },
 "nbformat": 4,
 "nbformat_minor": 4
}
