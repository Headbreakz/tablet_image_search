{
 "cells": [
  {
   "cell_type": "code",
   "execution_count": 1,
   "metadata": {},
   "outputs": [
    {
     "name": "stderr",
     "output_type": "stream",
     "text": [
      "Using TensorFlow backend.\n"
     ]
    }
   ],
   "source": [
    "# 필요한 패키지들을 가져옵니다\n",
    "from keras.preprocessing.image import img_to_array\n",
    "from keras.models import load_model\n",
    "import numpy as np\n",
    "import argparse\n",
    "import imutils\n",
    "import pickle\n",
    "import cv2\n",
    "import os\n",
    " \n",
    "# 명령줄 인수를 파싱해옵니다\n",
    "# ap = argparse.ArgumentParser()\n",
    "# ap.add_argument(\"-m\", \"--model\", required=True,\n",
    "# \thelp=\"path to trained model model\")\n",
    "# ap.add_argument(\"-l\", \"--labelbin\", required=True,\n",
    "# \thelp=\"path to label binarizer\")\n",
    "# ap.add_argument(\"-i\", \"--image\", required=True,\n",
    "# \thelp=\"path to input image\")\n",
    "# args = vars(ap.parse_args())"
   ]
  },
  {
   "cell_type": "code",
   "execution_count": 2,
   "metadata": {},
   "outputs": [],
   "source": [
    "# 이미지를 로드합니다\n",
    "image = cv2.imread('C:/Users/82107/Desktop/project/Images/final_image/circle_yellow/452.jpg')\n",
    "output = imutils.resize(image, width=400)\n",
    " \n",
    "# 분류를 위한 이미지 전처리를 수행합니다\n",
    "image = cv2.resize(image, (280, 160))\n",
    "image = image.astype(\"float\") / 255.0\n",
    "image = img_to_array(image)\n",
    "image = np.expand_dims(image, axis=0)"
   ]
  },
  {
   "cell_type": "code",
   "execution_count": 12,
   "metadata": {},
   "outputs": [
    {
     "name": "stdout",
     "output_type": "stream",
     "text": [
      "[INFO] loading network...\n",
      "[INFO] classifying image...\n"
     ]
    }
   ],
   "source": [
    "# 학습된 네트워크와 `MultiLabelBinarizer`를 로드합니다\n",
    "print(\"[INFO] loading network...\")\n",
    "model = load_model(\"model.h5\")\n",
    "mlb = pickle.loads(open(\"labelbin\", \"rb\").read())\n",
    "\n",
    "# 이미지에 대한 분류를 수행한 후, \n",
    "# 확률이 가장 높은 두 개의 클래스 라벨을 찾습니다\n",
    "print(\"[INFO] classifying image...\")\n",
    "proba = model.predict(image)[0]\n",
    "idxs = np.argsort(proba)[::-1][:2]"
   ]
  },
  {
   "cell_type": "code",
   "execution_count": 14,
   "metadata": {},
   "outputs": [
    {
     "name": "stdout",
     "output_type": "stream",
     "text": [
      "yellow\n",
      "yellow\n",
      "orange\n"
     ]
    }
   ],
   "source": [
    "print(mlb.classes_[idxs[0]])\n",
    "# 확률이 높은 라벨들에 대해 아래의 반복문을 수행합니다\n",
    "for (i, j) in enumerate(idxs):\n",
    "    print(mlb.classes_[j])\n",
    "    \n",
    "    \n",
    "\t# 이미지 위에 라벨을 덧씌웁니다\n",
    "# \tlabel = \"{}: {:.2f}%\".format(mlb.classes_[j], proba[j] * 100)\n",
    "\t\n",
    "# # 각 라벨에 대한 확률을 출력합니다\n",
    "# for (label, p) in zip(mlb.classes_, proba):\n",
    "# \tprint(\"{}: {:.2f}%\".format(label, p * 100))\n",
    " \n"
   ]
  }
 ],
 "metadata": {
  "kernelspec": {
   "display_name": "Python 3",
   "language": "python",
   "name": "python3"
  },
  "language_info": {
   "codemirror_mode": {
    "name": "ipython",
    "version": 3
   },
   "file_extension": ".py",
   "mimetype": "text/x-python",
   "name": "python",
   "nbconvert_exporter": "python",
   "pygments_lexer": "ipython3",
   "version": "3.7.6"
  }
 },
 "nbformat": 4,
 "nbformat_minor": 4
}
