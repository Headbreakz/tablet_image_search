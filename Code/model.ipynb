{
 "cells": [
  {
   "cell_type": "code",
   "execution_count": null,
   "metadata": {},
   "outputs": [],
   "source": [
    "import os\n",
    "import matplotlib.image as img\n",
    "import numpy as np\n",
    "import cv2\n",
    "\n",
    "\n",
    "def loadimgs(path,n = 0):\n",
    "    '''\n",
    "    path => Path of train directory or test directory\n",
    "    '''\n",
    "    X=[]\n",
    "    y=[]\n",
    "    \n",
    "    lang_dict = {}\n",
    "    curr_y = n\n",
    "    category_images=[]\n",
    "    \n",
    "    # we load every alphabet seperately so we can isolate them later\n",
    "    for filename in os.listdir(path):\n",
    "        print(\"loading filename: \" + filename)\n",
    "        lang_dict[filename] = curr_y\n",
    "        image_path = os.path.join(path, filename)\n",
    "        image = cv2.imread(image_path)\n",
    "        image_copy = cv2.resize(image, dsize=(210, 210),interpolation=cv2.INTER_LINEAR)\n",
    "        category_images.append(image_copy)\n",
    "        y.append(curr_y)\n",
    "        curr_y += 1\n",
    "      \n",
    "      \n",
    "      \n",
    "      # X.append(np.stack(category_images))\n",
    "    try :\n",
    "        X.append(np.stack(category_images))\n",
    "    # edge case  - last one\n",
    "    except ValueError as e:\n",
    "        print(e)\n",
    "        print(\"error - category_images:\", category_images)\n",
    "    \n",
    "    \n",
    "    y = np.vstack(y)\n",
    "    X = np.stack(X)\n",
    "    return X,y,lang_dict"
   ]
  }
 ],
 "metadata": {
  "kernelspec": {
   "display_name": "Python 3",
   "language": "python",
   "name": "python3"
  },
  "language_info": {
   "codemirror_mode": {
    "name": "ipython",
    "version": 3
   },
   "file_extension": ".py",
   "mimetype": "text/x-python",
   "name": "python",
   "nbconvert_exporter": "python",
   "pygments_lexer": "ipython3",
   "version": "3.7.4"
  }
 },
 "nbformat": 4,
 "nbformat_minor": 2
}
